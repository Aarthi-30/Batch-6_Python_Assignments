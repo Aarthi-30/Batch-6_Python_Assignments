{
 "cells": [
  {
   "cell_type": "code",
   "execution_count": 1,
   "metadata": {},
   "outputs": [
    {
     "name": "stdout",
     "output_type": "stream",
     "text": [
      "Take an integer and find if it is a prime number or not\n"
     ]
    }
   ],
   "source": [
    "print(\"Take an integer and find if it is a prime number or not\")"
   ]
  },
  {
   "cell_type": "code",
   "execution_count": 2,
   "metadata": {},
   "outputs": [
    {
     "name": "stdout",
     "output_type": "stream",
     "text": [
      "Enter the number: 3\n",
      "3 is a prime number\n"
     ]
    }
   ],
   "source": [
    "number = int(input(\"Enter the number: \"))\n",
    "if number>1:\n",
    "    for i in range (2,number):\n",
    "        if (number%i) == 0:\n",
    "            print (number,\"is not a prime number\")\n",
    "        else:\n",
    "            print (number,\"is a prime number\")\n",
    "else:\n",
    "    print (number,\"is not a prime number\")"
   ]
  },
  {
   "cell_type": "code",
   "execution_count": 3,
   "metadata": {},
   "outputs": [
    {
     "name": "stdout",
     "output_type": "stream",
     "text": [
      "Sum of n numbers using while loop\n"
     ]
    }
   ],
   "source": [
    "print (\"Sum of n numbers using while loop\")"
   ]
  },
  {
   "cell_type": "code",
   "execution_count": 4,
   "metadata": {},
   "outputs": [
    {
     "name": "stdout",
     "output_type": "stream",
     "text": [
      "Enter the password 40\n",
      "40\n",
      "Enter the password 30\n",
      "70\n",
      "Enter the password 20\n",
      "90\n",
      "Enter the password 10\n",
      "100\n",
      "Enter the password 0\n",
      "100\n",
      "Final sum is  100\n"
     ]
    }
   ],
   "source": [
    "sum1=0\n",
    "while True:\n",
    "    num1=int(input(\"Enter the password \"))\n",
    "    sum1=sum1+num1\n",
    "    print(sum1)\n",
    "    if num1==0:\n",
    "        break\n",
    "print (\"Final sum is \", sum1)"
   ]
  },
  {
   "cell_type": "code",
   "execution_count": null,
   "metadata": {},
   "outputs": [],
   "source": []
  }
 ],
 "metadata": {
  "kernelspec": {
   "display_name": "Python 3",
   "language": "python",
   "name": "python3"
  },
  "language_info": {
   "codemirror_mode": {
    "name": "ipython",
    "version": 3
   },
   "file_extension": ".py",
   "mimetype": "text/x-python",
   "name": "python",
   "nbconvert_exporter": "python",
   "pygments_lexer": "ipython3",
   "version": "3.7.6"
  }
 },
 "nbformat": 4,
 "nbformat_minor": 4
}
